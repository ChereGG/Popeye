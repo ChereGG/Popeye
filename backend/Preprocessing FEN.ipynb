{
 "cells": [
  {
   "cell_type": "code",
   "execution_count": 1,
   "id": "c32918ce",
   "metadata": {},
   "outputs": [],
   "source": [
    "import chess\n",
    "import chess.engine\n",
    "import chess.pgn"
   ]
  },
  {
   "cell_type": "code",
   "execution_count": 2,
   "id": "53601db0",
   "metadata": {},
   "outputs": [],
   "source": [
    "def create_labels(pgn_file):\n",
    "    pgn= open(pgn_file)\n",
    "    fen_dict=dict()\n",
    "    engine = chess.engine.SimpleEngine.popen_uci(\"stockfish/stockfish.exe\")\n",
    "    while True:\n",
    "        game = chess.pgn.read_game(pgn)\n",
    "        if game is None:\n",
    "            break\n",
    "        board=game.board()\n",
    "        for move in game.mainline_moves():\n",
    "            board.push(move)\n",
    "            info=engine.analyse(board,chess.engine.Limit(depth=10))\n",
    "            fen_dict[board.fen()]=info['score'].white()\n",
    "    engine.quit()\n",
    "    return fen_dict"
   ]
  },
  {
   "cell_type": "code",
   "execution_count": 3,
   "id": "459f14e8",
   "metadata": {},
   "outputs": [],
   "source": [
    "fen_dict=create_labels(\"test.pgn\")"
   ]
  },
  {
   "cell_type": "code",
   "execution_count": 6,
   "id": "869c2ab3",
   "metadata": {},
   "outputs": [],
   "source": [
    "def save_train_data(fen_dict):\n",
    "    with open('trainData','w') as file:\n",
    "        for fen in fen_dict:\n",
    "            file.write(str(fen)+\":\"+str(fen_dict[fen])+\"\\n\")"
   ]
  },
  {
   "cell_type": "code",
   "execution_count": 7,
   "id": "d77f47bc",
   "metadata": {},
   "outputs": [],
   "source": [
    "save_train_data(fen_dict)"
   ]
  }
 ],
 "metadata": {
  "kernelspec": {
   "display_name": "Python 3 (ipykernel)",
   "language": "python",
   "name": "python3"
  },
  "language_info": {
   "codemirror_mode": {
    "name": "ipython",
    "version": 3
   },
   "file_extension": ".py",
   "mimetype": "text/x-python",
   "name": "python",
   "nbconvert_exporter": "python",
   "pygments_lexer": "ipython3",
   "version": "3.9.7"
  }
 },
 "nbformat": 4,
 "nbformat_minor": 5
}
