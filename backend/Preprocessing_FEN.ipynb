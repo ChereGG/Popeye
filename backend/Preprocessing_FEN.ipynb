{
 "cells": [
  {
   "cell_type": "code",
   "execution_count": 1,
   "id": "c32918ce",
   "metadata": {},
   "outputs": [],
   "source": [
    "import chess\n",
    "import chess.engine\n",
    "import chess.pgn"
   ]
  },
  {
   "cell_type": "code",
   "execution_count": 2,
   "id": "53601db0",
   "metadata": {},
   "outputs": [],
   "source": [
    "def create_labels(pgn_file):\n",
    "    pgn= open(pgn_file)\n",
    "    fen_dict=dict()\n",
    "    engine = chess.engine.SimpleEngine.popen_uci(\"stockfish/stockfish.exe\")\n",
    "    while True:\n",
    "        game = chess.pgn.read_game(pgn)\n",
    "        if game is None:\n",
    "            break\n",
    "        board=game.board()\n",
    "        for move in game.mainline_moves():\n",
    "            board.push(move)\n",
    "            info=engine.analyse(board,chess.engine.Limit(depth=2))\n",
    "            fen_dict[board.fen()]=info['score'].white()\n",
    "    engine.quit()\n",
    "    return fen_dict"
   ]
  },
  {
   "cell_type": "code",
   "execution_count": 3,
   "id": "869c2ab3",
   "metadata": {},
   "outputs": [],
   "source": [
    "def save_train_data(fen_dict, filePath):\n",
    "    with open(filePath,'w') as file:\n",
    "        for fen in fen_dict:\n",
    "            file.write(str(fen)+\":\"+str(fen_dict[fen])+\"\\n\")"
   ]
  },
  {
   "cell_type": "code",
   "execution_count": 4,
   "id": "91296963",
   "metadata": {},
   "outputs": [],
   "source": [
    "fen_dict=create_labels(\"test.pgn\")\n",
    "save_train_data(fen_dict,\"trainData\")"
   ]
  },
  {
   "cell_type": "code",
   "execution_count": 5,
   "id": "bb79380c",
   "metadata": {},
   "outputs": [],
   "source": [
    "def fen_to_matrix(fen):\n",
    "    piece_values = {\"P\":1,\"R\":5,\"N\":3,\"B\":3,\"K\":100,\"Q\":9,\"p\":-1,\"r\":-5,\"n\":-3,\"b\":-3,\"k\":-100,\"q\":-9}\n",
    "    matrix = [[0 for _ in range(8)] for _ in range(8)]\n",
    "    records = fen.split()\n",
    "    board = records[0]\n",
    "    position_rows = board.split(\"/\")\n",
    "    contor = 0\n",
    "    for position_row in position_rows:\n",
    "        for potential_piece in position_row:\n",
    "            if potential_piece.isalpha():\n",
    "                matrix[int(contor/8)][contor%8] = piece_values[potential_piece] / piece_values[\"K\"]\n",
    "                contor+=1\n",
    "            else:\n",
    "                contor+= int(potential_piece)\n",
    "    return matrix"
   ]
  }
 ],
 "metadata": {
  "kernelspec": {
   "display_name": "Python 3 (ipykernel)",
   "language": "python",
   "name": "python3"
  },
  "language_info": {
   "codemirror_mode": {
    "name": "ipython",
    "version": 3
   },
   "file_extension": ".py",
   "mimetype": "text/x-python",
   "name": "python",
   "nbconvert_exporter": "python",
   "pygments_lexer": "ipython3",
   "version": "3.9.7"
  }
 },
 "nbformat": 4,
 "nbformat_minor": 5
}
