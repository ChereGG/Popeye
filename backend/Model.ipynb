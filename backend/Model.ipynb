{
 "cells": [
  {
   "cell_type": "code",
   "execution_count": null,
   "id": "79387ae8",
   "metadata": {},
   "outputs": [],
   "source": [
    "import tensorflow as tf\n",
    "import numpy as np\n",
    "import import_ipynb\n",
    "from Preprocessing_FEN import fen_to_matrix"
   ]
  },
  {
   "cell_type": "code",
   "execution_count": null,
   "id": "6740857b",
   "metadata": {},
   "outputs": [],
   "source": [
    "def getTrainData(inputFilePath):\n",
    "    X_train = np.empty(shape=(0,8,8))\n",
    "    Y_train = np.empty(shape=(0))\n",
    "    with open(inputFilePath,'r') as file:\n",
    "        for line in file:\n",
    "            line_elems = line.split(\":\")\n",
    "            fen,evaluation = line_elems[0],line_elems[1]\n",
    "            if \"#\" in evaluation:\n",
    "                if \"0\" in evaluation:\n",
    "                    evaluation = 1000000000\n",
    "                else:\n",
    "                    evaluation = (1/int(evaluation.split(\"#\")[1]))*10000\n",
    "            X_train = np.append(X_train, np.array([fen_to_matrix(fen)]), axis=0)\n",
    "            Y_train = np.append(Y_train, np.array([int(evaluation)]), axis=0)\n",
    "    return X_train, Y_train"
   ]
  },
  {
   "cell_type": "code",
   "execution_count": null,
   "id": "7d17bbf6",
   "metadata": {},
   "outputs": [],
   "source": [
    "X_train, Y_train = getTrainData(\"trainData\")\n",
    "X_train = np.expand_dims(X_train, axis=3)"
   ]
  },
  {
   "cell_type": "code",
   "execution_count": null,
   "id": "c54b82fd",
   "metadata": {},
   "outputs": [],
   "source": [
    "print(X_train.shape)\n",
    "print(Y_train.shape)"
   ]
  },
  {
   "cell_type": "code",
   "execution_count": null,
   "id": "ad28e15d",
   "metadata": {},
   "outputs": [],
   "source": [
    "def get_model():\n",
    "    model = tf.keras.models.Sequential([\n",
    "        tf.keras.layers.Input(shape=(8,8,1)),\n",
    "        tf.keras.layers.Conv2D(filters=8,kernel_size=3,padding='same',kernel_initializer='he_uniform',activation='relu'),\n",
    "        tf.keras.layers.Conv2D(filters=16,kernel_size=3,padding='same',kernel_initializer='he_uniform',activation='relu'),\n",
    "        tf.keras.layers.Conv2D(filters=32,kernel_size=3,padding='same',kernel_initializer='he_uniform',activation='relu'),\n",
    "        tf.keras.layers.Conv2D(filters=64,kernel_size=3,padding='same',kernel_initializer='he_uniform',activation='relu'),\n",
    "        tf.keras.layers.Conv2D(filters=128,kernel_size=3,padding='same',kernel_initializer='he_uniform',activation='relu'),\n",
    "        tf.keras.layers.Conv2D(filters=256,kernel_size=3,padding='same',kernel_initializer='he_uniform',activation='relu'),\n",
    "        tf.keras.layers.Flatten(),\n",
    "        tf.keras.layers.Dense(1024,activation='relu'),\n",
    "        tf.keras.layers.Dense(2048,activation='relu'),\n",
    "        tf.keras.layers.Dense(4096,activation='relu'),\n",
    "        tf.keras.layers.Dense(1,activation='linear')\n",
    "    ])\n",
    "    return model"
   ]
  },
  {
   "cell_type": "code",
   "execution_count": null,
   "id": "5fb889c1",
   "metadata": {},
   "outputs": [],
   "source": [
    "model = get_model()"
   ]
  },
  {
   "cell_type": "code",
   "execution_count": null,
   "id": "7e099dd0",
   "metadata": {},
   "outputs": [],
   "source": [
    "model.summary()"
   ]
  },
  {
   "cell_type": "code",
   "execution_count": null,
   "id": "37554a24",
   "metadata": {},
   "outputs": [],
   "source": [
    "model.compile(optimizer='adam',loss='mse')"
   ]
  },
  {
   "cell_type": "code",
   "execution_count": null,
   "id": "e7ad3caf",
   "metadata": {},
   "outputs": [],
   "source": [
    "callbacks=[\n",
    "    tf.keras.callbacks.TensorBoard(log_dir='logs')\n",
    "]"
   ]
  },
  {
   "cell_type": "code",
   "execution_count": null,
   "id": "70ddbef0",
   "metadata": {},
   "outputs": [],
   "source": [
    "model.fit(X_train, Y_train, validation_split=0.2, epochs=500,callbacks=callbacks)"
   ]
  }
 ],
 "metadata": {
  "kernelspec": {
   "display_name": "backend-E-5aZqpO",
   "language": "python",
   "name": "backend-e-5azqpo"
  },
  "language_info": {
   "codemirror_mode": {
    "name": "ipython",
    "version": 3
   },
   "file_extension": ".py",
   "mimetype": "text/x-python",
   "name": "python",
   "nbconvert_exporter": "python",
   "pygments_lexer": "ipython3",
   "version": "3.9.7"
  }
 },
 "nbformat": 4,
 "nbformat_minor": 5
}
